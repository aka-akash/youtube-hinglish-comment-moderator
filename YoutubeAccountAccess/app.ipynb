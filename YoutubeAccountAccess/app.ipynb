{
 "cells": [
  {
   "cell_type": "code",
   "execution_count": 1,
   "metadata": {},
   "outputs": [],
   "source": [
    "import os\n",
    "import pickle\n",
    "\n",
    "from google_auth_oauthlib.flow import InstalledAppFlow\n",
    "from google.auth.transport.requests import Request\n",
    "\n",
    "from googleapiclient.discovery import build"
   ]
  },
  {
   "cell_type": "code",
   "execution_count": 2,
   "metadata": {},
   "outputs": [
    {
     "name": "stdout",
     "output_type": "stream",
     "text": [
      "Fetching New Tokens...\n",
      "\n",
      "Saving Credentials for Fututre Use...\n"
     ]
    }
   ],
   "source": [
    "credentials = None\n",
    "\n",
    "# tokens.pickle stores the user's credentials from previously successful logins\n",
    "if os.path.exists(\"token.pickle\"):\n",
    "    print(\"Loading Credentials From File...\")\n",
    "    # accessing the credentials from the pickle file\n",
    "    with open(\"token.pickle\", \"rb\") as token:\n",
    "        credentials = pickle.load(token)\n",
    "\n",
    "# if there is no valid credentials available, then either refresh the token or log in.\n",
    "if not credentials or not credentials.valid:\n",
    "    if credentials and credentials.expired and credentials.refresh_token:\n",
    "        print(\"Refreshing Acess Token...\")\n",
    "        credentials.refresh(Request())\n",
    "    else:\n",
    "        print(\"Fetching New Tokens...\")\n",
    "        flow = InstalledAppFlow.from_client_secrets_file(\n",
    "                            \"client_secrets.json\", # Run the O2auth authorisation code \n",
    "                            scopes=[\"https://www.googleapis.com/auth/youtube.force-ssl\"] #determine the scope till what you want to access\n",
    "                            )\n",
    "        # start running the server to collect the authorisation credentials \n",
    "        flow.run_local_server(\n",
    "                        port=8080, # port on which the code should run\n",
    "                        prompt=\"consent\",  # the message which should be prompt before the user authorizing the access\n",
    "                        authorization_prompt_message = \"\"\n",
    "                        )\n",
    "        #store the credentials into a variable named credentials\n",
    "        credentials = flow.credentials\n",
    "        # dump the credentials back into the pickle file\n",
    "        with open(\"token.pickle\", \"wb\") as f:\n",
    "            print(\"Saving Credentials for Fututre Use...\")\n",
    "            pickle.dump(credentials, f)"
   ]
  },
  {
   "attachments": {},
   "cell_type": "markdown",
   "metadata": {},
   "source": [
    "<b>Acessing The Youtube Account using Credentials</b>"
   ]
  },
  {
   "cell_type": "code",
   "execution_count": 3,
   "metadata": {},
   "outputs": [],
   "source": [
    "youtube = build(\"youtube\", \"v3\",  credentials=credentials)"
   ]
  },
  {
   "attachments": {},
   "cell_type": "markdown",
   "metadata": {},
   "source": [
    "<b>Acessing comments posted on the Video till now</b>"
   ]
  },
  {
   "cell_type": "code",
   "execution_count": 4,
   "metadata": {},
   "outputs": [
    {
     "name": "stdout",
     "output_type": "stream",
     "text": [
      "Comment Id: UgwHGt4c3W2VPWqlLB54AaABAg    Comment:  Yeh black screen lagane ka idea kaha se aaya.\n",
      "Comment Id: UgwF_nnUt-kjlX0-fRd4AaABAg    Comment:  Tum jaise logo ko video nhi banai chahiyeh\n",
      "Comment Id: UgyER8tNiWYZJ9zrIr54AaABAg    Comment:  Poora mood kharab kr diya. Kya bekar video hain\n",
      "Comment Id: UgzTatzjK5dp3yCnxSp4AaABAg    Comment:  All the best aakash😊. We are waiting for your upcoming videos.\n"
     ]
    }
   ],
   "source": [
    "request = youtube.commentThreads().list(\n",
    "     part=\"id, replies, snippet\",  videoId=\"8JlcXr11084\"\n",
    ")\n",
    "response = request.execute()\n",
    "\n",
    "# print(response)\n",
    "\n",
    "# printing comments posted on the video\n",
    "for snip in response['items']:\n",
    "    print(\"Comment Id:\" , snip['id'] , end=\"    \")\n",
    "    print(\"Comment: \", snip['snippet']['topLevelComment']['snippet']['textDisplay'])\n",
    "\n",
    "    if snip.get('replies', None):\n",
    "        for rep in snip['replies']['comments']:\n",
    "            print(\"Reply Comment Id: \" , rep['id'], end=\"   \")\n",
    "            print(\"Comment: \", rep['snippet']['textDisplay'])\n",
    "\n"
   ]
  },
  {
   "attachments": {},
   "cell_type": "markdown",
   "metadata": {},
   "source": [
    "<b>Removing a Comment using --- setModerationStatus</b><br> <b>setModerationStatus</b> provides us 4 options to moderate the comment, which are <br> <b>a. published <br> b. heldForReview <br> c. likelySpam <br> d. rejected</b>"
   ]
  },
  {
   "cell_type": "code",
   "execution_count": 5,
   "metadata": {},
   "outputs": [],
   "source": [
    "# # removing comment written by others but \n",
    "# # not removing comments written by the creator himself\n",
    "# request = youtube.comments().setModerationStatus(\n",
    "#         id=\"UgzAxTGTvYvtfCQ2Btl4AaABAg\",\n",
    "#         moderationStatus=\"published\"\n",
    "#     )\n",
    "# request.execute()"
   ]
  },
  {
   "attachments": {},
   "cell_type": "markdown",
   "metadata": {},
   "source": [
    "<b>Output Structure of \"response\"</b>"
   ]
  },
  {
   "cell_type": "code",
   "execution_count": 6,
   "metadata": {},
   "outputs": [],
   "source": [
    "# {\n",
    "#     'kind': 'youtube#commentThreadListResponse', \n",
    "#     'etag': 'tt_RxG-7XES4qKO4gewIRRbPHcY', \n",
    "#     'pageInfo': {'totalResults': 9, 'resultsPerPage': 20}, \n",
    "#     'items': [\n",
    "#             {'kind': 'youtube#commentThread', \n",
    "#              'etag': 'oWUWsLK9wc6TWdEtMQnbavtyG3g', \n",
    "#              'id': 'UgxPf-VFkiqx3VRBqll4AaABAg', \n",
    "#              'snippet': {\n",
    "#                         'videoId': '8JlcXr11084', \n",
    "#                         'topLevelComment': {\n",
    "#                                             'kind': 'youtube#comment', \n",
    "#                                             'etag': 'k80167Mt66S_Ssa_48_kYiI7FWo', \n",
    "#                                             'id': 'UgxPf-VFkiqx3VRBqll4AaABAg', \n",
    "#                                             'snippet': {\n",
    "#                                                         'videoId': '8JlcXr11084', \n",
    "#                                                         'textDisplay': 'Today is very lazy day😢', \n",
    "#                                                         'textOriginal': 'Today is very lazy day😢', \n",
    "#                                                         'authorDisplayName': 'Fabsurbhitcoding', \n",
    "#                                                         'authorProfileImageUrl': 'https://yt3.ggpht.com/bVGapP8wW4WJzLlLEeCOzJ-9SakBVqm7VZ6z4QK1e-3Bm8Eq7481oHQqAzUEahmvC69Vx4E-sl4=s48-c-k-c0x00ffffff-no-rj', \n",
    "#                                                         'authorChannelUrl': 'http://www.youtube.com/channel/UC1-B4kBKMdrGIQaNe1iloRQ', \n",
    "#                                                         'authorChannelId': {'value': 'UC1-B4kBKMdrGIQaNe1iloRQ'}, \n",
    "#                                                         'canRate': True, \n",
    "#                                                         'viewerRating': 'none', \n",
    "#                                                         'likeCount': 0, 'publishedAt': \n",
    "#                                                         '2023-04-13T13:16:50Z', \n",
    "#                                                         'updatedAt': '2023-04-13T13:16:50Z'\n",
    "#                                                         }\n",
    "#                                             }, \n",
    "#                         'canReply': True, \n",
    "#                         'totalReplyCount': 0, \n",
    "#                         'isPublic': True\n",
    "#                         }\n",
    "#             }, \n",
    "#     ]\n",
    "# }"
   ]
  },
  {
   "attachments": {},
   "cell_type": "markdown",
   "metadata": {},
   "source": [
    "<b>Replying to a Top-Level-Comment in a Video</b>"
   ]
  },
  {
   "cell_type": "code",
   "execution_count": 7,
   "metadata": {},
   "outputs": [],
   "source": [
    "# request = youtube.comments().insert(\n",
    "#         part=\"snippet\",\n",
    "#         body={\n",
    "#           \"snippet\": {\n",
    "#             \"parentId\": \"Ugx-4B6X1yVh3wstW214AaABAg\",\n",
    "#             \"textOriginal\": \"One More reply.\"\n",
    "#           }\n",
    "#         }\n",
    "#     )\n",
    "\n",
    "# response = request.execute()\n",
    "# print(\"Parent Id: \", response['snippet']['parentId'])\n",
    "# print(\"Comment Id: \" , response['id'], end=\"    \")\n",
    "# print(\"Comment: \", response['snippet']['textDisplay'])"
   ]
  },
  {
   "attachments": {},
   "cell_type": "markdown",
   "metadata": {},
   "source": [
    "<b>Inserting a Top-Level-Comment in a Video</b>"
   ]
  },
  {
   "cell_type": "code",
   "execution_count": 8,
   "metadata": {},
   "outputs": [],
   "source": [
    "# request = youtube.commentThreads().insert(\n",
    "#         part=\"snippet\",\n",
    "#         body={\n",
    "#           \"snippet\": {\n",
    "#             \"videoId\": \"8JlcXr11084\",\n",
    "#             \"topLevelComment\": {\n",
    "#               \"snippet\": {\n",
    "#                 \"textOriginal\": \"Nanga nachega tu\"\n",
    "#               }\n",
    "#             }\n",
    "#           }\n",
    "#         }\n",
    "#       )\n",
    "\n",
    "# response = request.execute()\n",
    "# print(\"Comment Id: \" , response['id'], end=\"    \")\n",
    "# print(\"Comment: \", response['snippet']['topLevelComment']['snippet']['textDisplay'])"
   ]
  },
  {
   "cell_type": "code",
   "execution_count": 9,
   "metadata": {},
   "outputs": [],
   "source": [
    "# from googleapiclient.errors import HttpError\n",
    "# import time"
   ]
  },
  {
   "attachments": {},
   "cell_type": "markdown",
   "metadata": {},
   "source": [
    "<b>Updating a Comment --- method not working </b>"
   ]
  },
  {
   "cell_type": "code",
   "execution_count": 10,
   "metadata": {},
   "outputs": [],
   "source": [
    "# try:\n",
    "#   request = youtube.comments().update(\n",
    "#         part=\"id, snippet\",\n",
    "#         body={\n",
    "#           \"id\": \"Ugwb0y3OEPf7f5RMHzd4AaABAg\",\n",
    "#           \"snippet\": {\n",
    "#             \"textOriginal\": \"Updated comment. Hurray!\"\n",
    "#           }\n",
    "#         }\n",
    "#     )\n",
    "#   request.execute()\n",
    "# except HttpError as err:\n",
    "#     print(err.resp.status)\n",
    "#     print(err.reason)\n",
    "\n",
    "# print(\"Comment Id: \" , response['id'], end=\"    \")\n",
    "# print(\"Comment: \", response['snippet']['textDisplay'])"
   ]
  },
  {
   "attachments": {},
   "cell_type": "markdown",
   "metadata": {},
   "source": [
    "<b>Deleting a Comment --- method not working</b>"
   ]
  },
  {
   "cell_type": "code",
   "execution_count": 11,
   "metadata": {},
   "outputs": [],
   "source": [
    "# try:\n",
    "#     request = youtube.comments().delete(\n",
    "#         id=\"Ugwb0y3OEPf7f5RMHzd4AaABAg\",\n",
    "#     )\n",
    "#     request.execute()\n",
    "# except HttpError as err:\n",
    "#     print(err.resp.status)\n",
    "#     print(err.reason)"
   ]
  },
  {
   "cell_type": "code",
   "execution_count": null,
   "metadata": {},
   "outputs": [],
   "source": []
  },
  {
   "cell_type": "code",
   "execution_count": null,
   "metadata": {},
   "outputs": [],
   "source": []
  },
  {
   "cell_type": "code",
   "execution_count": null,
   "metadata": {},
   "outputs": [],
   "source": []
  }
 ],
 "metadata": {
  "kernelspec": {
   "display_name": "base",
   "language": "python",
   "name": "python3"
  },
  "language_info": {
   "codemirror_mode": {
    "name": "ipython",
    "version": 3
   },
   "file_extension": ".py",
   "mimetype": "text/x-python",
   "name": "python",
   "nbconvert_exporter": "python",
   "pygments_lexer": "ipython3",
   "version": "3.9.7"
  },
  "orig_nbformat": 4
 },
 "nbformat": 4,
 "nbformat_minor": 2
}
